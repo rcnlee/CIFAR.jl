{
 "cells": [
  {
   "cell_type": "code",
   "execution_count": 1,
   "metadata": {},
   "outputs": [
    {
     "name": "stderr",
     "output_type": "stream",
     "text": [
      "┌ Info: Recompiling stale cache file /Users/rlee18/.julia/compiled/v1.0/CIFAR/HnBkt.ji for CIFAR [404a75eb-fdc7-5083-8dc1-e418eb407263]\n",
      "└ @ Base loading.jl:1184\n"
     ]
    }
   ],
   "source": [
    "using CIFAR,Images"
   ]
  },
  {
   "cell_type": "code",
   "execution_count": 2,
   "metadata": {},
   "outputs": [
    {
     "data": {
      "text/plain": [
       "([0.230469 0.601563 … 0.738281 0.894531; 0.167969 0.492188 … 0.726563 0.921875; … ; 0.328125 0.554688 … 0.667969 0.632813; 0.28125 0.5625 … 0.667969 0.628906], Any[7; 10; … ; 2; 2], [\"airplane\", \"automobile\", \"bird\", \"cat\", \"deer\", \"dog\", \"frog\", \"horse\", \"ship\", \"truck\"])"
      ]
     },
     "execution_count": 2,
     "metadata": {},
     "output_type": "execute_result"
    }
   ],
   "source": [
    "X,y,labels=traindata()"
   ]
  },
  {
   "cell_type": "code",
   "execution_count": 3,
   "metadata": {},
   "outputs": [
    {
     "data": {
      "image/png": "[encoded data removed]",
      "text/plain": [
       "8×8 reshape(reinterpret(RGB{Float64}, ::Array{Float64,3}), 8, 8) with eltype RGB{Float64}:\n",
       " RGB{Float64}(0.383359,0.347454,0.587207)   …  RGB{Float64}(0.18504,0.574326,0.00213508)\n",
       " RGB{Float64}(0.9676,0.445209,0.547304)        RGB{Float64}(0.599248,0.658195,0.690956) \n",
       " RGB{Float64}(0.39632,0.337484,0.61901)        RGB{Float64}(0.909536,0.218393,0.537994) \n",
       " RGB{Float64}(0.884777,0.10247,0.241095)       RGB{Float64}(0.0749989,0.364983,0.697733)\n",
       " RGB{Float64}(0.547811,0.239441,0.739532)      RGB{Float64}(0.374326,0.835702,0.925648) \n",
       " RGB{Float64}(0.444628,0.672158,0.457738)   …  RGB{Float64}(0.403824,0.297988,0.342146) \n",
       " RGB{Float64}(0.528429,0.0162243,0.738061)     RGB{Float64}(0.904918,0.473097,0.794883) \n",
       " RGB{Float64}(0.290251,0.0598971,0.322879)     RGB{Float64}(0.745907,0.380418,0.0952505)"
      ]
     },
     "execution_count": 3,
     "metadata": {},
     "output_type": "execute_result"
    }
   ],
   "source": [
    "colorview(RGB, rand(3,8,8))"
   ]
  },
  {
   "cell_type": "code",
   "execution_count": 4,
   "metadata": {},
   "outputs": [
    {
     "data": {
      "text/plain": [
       "3×32×32 Array{Float64,3}:\n",
       "[:, :, 1] =\n",
       " 0.109375   0.128906   0.152344   0.210938  …  0.324219  0.34375   0.378906\n",
       " 0.0976563  0.109375   0.125      0.179688     0.285156  0.28125   0.304688\n",
       " 0.0390625  0.0507813  0.0585938  0.109375     0.203125  0.199219  0.21875 \n",
       "\n",
       "[:, :, 2] =\n",
       " 0.144531   0.132813   0.15625    0.242188  …  0.339844  0.351563  0.367188\n",
       " 0.132813   0.117188   0.128906   0.214844     0.300781  0.289063  0.292969\n",
       " 0.0742188  0.0546875  0.0664063  0.140625     0.21875   0.203125  0.207031\n",
       "\n",
       "[:, :, 3] =\n",
       " 0.148438  0.125     0.222656  0.328125  …  0.328125  0.363281  0.363281\n",
       " 0.136719  0.105469  0.195313  0.300781     0.289063  0.300781  0.292969\n",
       " 0.078125  0.046875  0.128906  0.226563     0.203125  0.21875   0.207031\n",
       "\n",
       "...\n",
       "\n",
       "[:, :, 30] =\n",
       " 0.296875  0.371094  0.363281  0.394531  …  0.386719  0.3125    0.210938\n",
       " 0.261719  0.320313  0.296875  0.3125       0.363281  0.289063  0.183594\n",
       " 0.152344  0.214844  0.203125  0.230469     0.273438  0.207031  0.109375\n",
       "\n",
       "[:, :, 31] =\n",
       " 0.316406  0.375     0.417969  0.386719  …  0.351563  0.296875  0.246094\n",
       " 0.28125   0.320313  0.347656  0.304688     0.328125  0.273438  0.21875 \n",
       " 0.167969  0.21875   0.257813  0.222656     0.238281  0.191406  0.144531\n",
       "\n",
       "[:, :, 32] =\n",
       " 0.332031  0.332031  0.371094  0.355469  …  0.316406  0.320313  0.28125 \n",
       " 0.296875  0.28125   0.300781  0.273438     0.292969  0.296875  0.253906\n",
       " 0.183594  0.175781  0.210938  0.191406     0.203125  0.214844  0.179688"
      ]
     },
     "execution_count": 4,
     "metadata": {},
     "output_type": "execute_result"
    }
   ],
   "source": [
    "i = 4\n",
    "img = permutedims(reshape(X[:,i],32,32,3), [3,2,1])"
   ]
  },
  {
   "cell_type": "code",
   "execution_count": 5,
   "metadata": {},
   "outputs": [
    {
     "data": {
      "image/png": "[encoded data removed]",
      "text/plain": [
       "32×32 reshape(reinterpret(RGB{Float64}, ::Array{Float64,3}), 32, 32) with eltype RGB{Float64}:\n",
       " RGB{Float64}(0.109375,0.0976563,0.0390625)  …  RGB{Float64}(0.332031,0.296875,0.183594)\n",
       " RGB{Float64}(0.128906,0.109375,0.0507813)      RGB{Float64}(0.332031,0.28125,0.175781) \n",
       " RGB{Float64}(0.152344,0.125,0.0585938)         RGB{Float64}(0.371094,0.300781,0.210938)\n",
       " RGB{Float64}(0.210938,0.179688,0.109375)       RGB{Float64}(0.355469,0.273438,0.191406)\n",
       " RGB{Float64}(0.289063,0.257813,0.183594)       RGB{Float64}(0.328125,0.25,0.167969)    \n",
       " RGB{Float64}(0.296875,0.257813,0.175781)    …  RGB{Float64}(0.367188,0.304688,0.226563)\n",
       " RGB{Float64}(0.300781,0.257813,0.171875)       RGB{Float64}(0.3125,0.261719,0.1875)    \n",
       " RGB{Float64}(0.308594,0.265625,0.179688)       RGB{Float64}(0.21875,0.183594,0.101563) \n",
       " RGB{Float64}(0.203125,0.183594,0.121094)       RGB{Float64}(0.292969,0.246094,0.152344)\n",
       " RGB{Float64}(0.175781,0.167969,0.113281)       RGB{Float64}(0.34375,0.292969,0.199219) \n",
       " RGB{Float64}(0.261719,0.238281,0.164063)    …  RGB{Float64}(0.375,0.332031,0.25)       \n",
       " RGB{Float64}(0.308594,0.265625,0.175781)       RGB{Float64}(0.324219,0.292969,0.21875) \n",
       " RGB{Float64}(0.355469,0.289063,0.1875)         RGB{Float64}(0.339844,0.3125,0.242188)  \n",
       " ⋮                                           ⋱                                          \n",
       " RGB{Float64}(0.378906,0.308594,0.234375)    …  RGB{Float64}(0.441406,0.355469,0.226563)\n",
       " RGB{Float64}(0.300781,0.242188,0.171875)       RGB{Float64}(0.363281,0.289063,0.160156)\n",
       " RGB{Float64}(0.1875,0.140625,0.0703125)        RGB{Float64}(0.347656,0.28125,0.164063) \n",
       " RGB{Float64}(0.171875,0.136719,0.0664063)      RGB{Float64}(0.304688,0.257813,0.15625) \n",
       " RGB{Float64}(0.238281,0.210938,0.144531)       RGB{Float64}(0.292969,0.269531,0.183594)\n",
       " RGB{Float64}(0.1875,0.171875,0.105469)      …  RGB{Float64}(0.304688,0.308594,0.234375)\n",
       " RGB{Float64}(0.226563,0.214844,0.144531)       RGB{Float64}(0.226563,0.230469,0.167969)\n",
       " RGB{Float64}(0.257813,0.25,0.167969)           RGB{Float64}(0.28125,0.265625,0.183594) \n",
       " RGB{Float64}(0.28125,0.261719,0.175781)        RGB{Float64}(0.339844,0.3125,0.21875)   \n",
       " RGB{Float64}(0.324219,0.285156,0.203125)       RGB{Float64}(0.316406,0.292969,0.203125)\n",
       " RGB{Float64}(0.34375,0.28125,0.199219)      …  RGB{Float64}(0.320313,0.296875,0.214844)\n",
       " RGB{Float64}(0.378906,0.304688,0.21875)        RGB{Float64}(0.28125,0.253906,0.179688) "
      ]
     },
     "execution_count": 5,
     "metadata": {},
     "output_type": "execute_result"
    }
   ],
   "source": [
    "colorview(RGB, img)"
   ]
  },
  {
   "cell_type": "code",
   "execution_count": 6,
   "metadata": {},
   "outputs": [
    {
     "data": {
      "text/plain": [
       "\"deer\""
      ]
     },
     "execution_count": 6,
     "metadata": {},
     "output_type": "execute_result"
    }
   ],
   "source": [
    "labels[y[i]]"
   ]
  },
  {
   "cell_type": "code",
   "execution_count": 7,
   "metadata": {},
   "outputs": [
    {
     "data": {
      "text/plain": [
       "10-element Array{String,1}:\n",
       " \"airplane\"  \n",
       " \"automobile\"\n",
       " \"bird\"      \n",
       " \"cat\"       \n",
       " \"deer\"      \n",
       " \"dog\"       \n",
       " \"frog\"      \n",
       " \"horse\"     \n",
       " \"ship\"      \n",
       " \"truck\"     "
      ]
     },
     "execution_count": 7,
     "metadata": {},
     "output_type": "execute_result"
    }
   ],
   "source": [
    "labels"
   ]
  },
  {
   "cell_type": "code",
   "execution_count": null,
   "metadata": {},
   "outputs": [],
   "source": []
  }
 ],
 "metadata": {
  "kernelspec": {
   "display_name": "Julia 1.0.0",
   "language": "julia",
   "name": "julia-1.0"
  },
  "language_info": {
   "file_extension": ".jl",
   "mimetype": "application/julia",
   "name": "julia",
   "version": "1.0.0"
  }
 },
 "nbformat": 4,
 "nbformat_minor": 2
}
